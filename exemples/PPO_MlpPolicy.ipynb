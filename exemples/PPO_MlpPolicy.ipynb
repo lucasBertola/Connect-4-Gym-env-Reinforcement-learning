{
  "cells": [
    {
      "cell_type": "markdown",
      "metadata": {
        "id": "view-in-github",
        "colab_type": "text"
      },
      "source": [
        "<a href=\"https://colab.research.google.com/github/lucasBertola/Connect-4-Gym-env-Reinforcement-learning/blob/main/exemples/PPO_MlpPolicy.ipynb\" target=\"_parent\"><img src=\"https://colab.research.google.com/assets/colab-badge.svg\" alt=\"Open In Colab\"/></a>"
      ]
    },
    {
      "cell_type": "markdown",
      "source": [
        "# Installing dependencies"
      ],
      "metadata": {
        "id": "CLLYEmPH6z4c"
      }
    },
    {
      "cell_type": "code",
      "source": [
        "%%capture\n",
        "!pip install gymnasium-connect-four==1.1.0 stable-baselines3==2.0.0"
      ],
      "metadata": {
        "id": "aM8D-1Wh66xy"
      },
      "execution_count": null,
      "outputs": []
    },
    {
      "cell_type": "markdown",
      "source": [
        "# Train your model"
      ],
      "metadata": {
        "id": "PCgQRcpb7Y0R"
      }
    },
    {
      "cell_type": "code",
      "source": [
        "%%capture\n",
        "from connect_four_gymnasium import ConnectFourEnv\n",
        "from connect_four_gymnasium.players import BabyPlayer\n",
        "from stable_baselines3 import PPO\n",
        "\n",
        "env = ConnectFourEnv(opponent=BabyPlayer())\n",
        "model = PPO(\"MlpPolicy\", env, verbose=1)"
      ],
      "metadata": {
        "id": "52SZhLy67csz"
      },
      "execution_count": null,
      "outputs": []
    },
    {
      "cell_type": "code",
      "execution_count": null,
      "metadata": {
        "id": "s_3k9zAWBPL5"
      },
      "outputs": [],
      "source": [
        "model.learn(total_timesteps=10000)"
      ]
    },
    {
      "cell_type": "markdown",
      "source": [
        "# TEST YOUR MODEL"
      ],
      "metadata": {
        "id": "094XwzvH8j1e"
      }
    },
    {
      "cell_type": "code",
      "source": [
        "from connect_four_gymnasium.tools import EloLeaderboard\n",
        "from connect_four_gymnasium.players import (ModelPlayer)\n",
        "\n",
        "myModelPlayer = ModelPlayer(model,name=\"Your trained Model\")\n",
        "\n",
        "\n",
        "print(EloLeaderboard().get_elo([myModelPlayer], display_log=True, num_matches=10))"
      ],
      "metadata": {
        "id": "4hlWWyN58pKQ"
      },
      "execution_count": null,
      "outputs": []
    }
  ],
  "metadata": {
    "colab": {
      "name": "PPO_MlpPolicy.ipynb",
      "provenance": [],
      "include_colab_link": true
    },
    "kernelspec": {
      "display_name": "Python 3",
      "name": "python3"
    },
    "language_info": {
      "name": "python"
    }
  },
  "nbformat": 4,
  "nbformat_minor": 0
}