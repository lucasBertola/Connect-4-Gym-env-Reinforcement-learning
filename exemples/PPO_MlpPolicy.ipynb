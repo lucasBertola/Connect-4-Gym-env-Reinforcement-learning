{
  "cells": [
    {
      "cell_type": "code",
      "execution_count": null,
      "metadata": {
        "id": "s_3k9zAWBPL5"
      },
      "outputs": [],
      "source": [
        "from gymnasium_connect_four import ConnectFourEnv\n",
        "from gymnasium_connect_four .players import BabyPlayer\n",
        "from stable_baselines3 import PPO\n",
        "\n",
        "size=5\n",
        "env = ConnectFourEnv(opponent=BabyPlayer())\n",
        "model = PPO(\"MlpPolicy\", env, verbose=1)\n",
        "\n",
        "model.learn(total_timesteps=10000)"
      ]
    },
    {
      "cell_type": "markdown",
      "metadata": {
        "id": "QfXFhEivCgPA"
      },
      "source": [
        "## SAVE SIMULATION AS GIF"
      ]
    },
    {
      "cell_type": "code",
      "execution_count": null,
      "metadata": {
        "id": "HDx75PsNCnkQ"
      },
      "outputs": [],
      "source": [
        "!pip install imageio\n",
        "!pip install IPython"
      ]
    },
    {
      "cell_type": "code",
      "execution_count": null,
      "metadata": {
        "id": "lO7eAlOSDMmx"
      },
      "outputs": [],
      "source": [
        "import imageio\n",
        "from IPython import display\n",
        "\n",
        "env = ConnectFourEnv(opponent=BabyPlayer(),render_mode=\"rgb_array\")\n",
        "\n",
        "images = []\n",
        "\n",
        "obs, _ = env.reset()\n",
        "\n",
        "for i in range(1000):\n",
        "    action, _ = model.predict(obs)\n",
        "    obs, rewards, dones, truncated, info = env.step(action)\n",
        "    image = env.render()\n",
        "    images.append(image)\n",
        "    if(truncated or dones):\n",
        "        obs , _=  env.reset()\n",
        "\n",
        "\n",
        "imageio.mimsave('simulation.gif', images)\n",
        "\n",
        "# Afficher la GIF dans Colab\n",
        "display.Image(\"simulation.gif\")"
      ]
    }
  ],
  "metadata": {
    "colab": {
      "include_colab_link": true,
      "name": "PPO_MlpPolicy.ipynb",
      "provenance": []
    },
    "kernelspec": {
      "display_name": "Python 3",
      "name": "python3"
    },
    "language_info": {
      "name": "python"
    }
  },
  "nbformat": 4,
  "nbformat_minor": 0
}
